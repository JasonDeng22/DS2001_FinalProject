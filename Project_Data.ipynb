{
 "cells": [
  {
   "cell_type": "markdown",
   "id": "bfde31f9-edd0-47c6-99a7-053eeb54c6f8",
   "metadata": {
    "tags": []
   },
   "source": [
    "# An Analysis of Cardiovascular Factors in relation to Heart Attack Prediction"
   ]
  },
  {
   "cell_type": "markdown",
   "id": "568d196e-ada4-48e0-9831-fea58f15fef2",
   "metadata": {
    "tags": []
   },
   "source": [
    "## Research Question:\n",
    "Which measured cardiovascular factor is most closely correlated with heart attack occurence?"
   ]
  },
  {
   "cell_type": "markdown",
   "id": "9a65c190-f566-456d-a685-164b6ebc5336",
   "metadata": {
    "tags": []
   },
   "source": [
    "## Data Dictionary: \n",
    "age - age of patient in years                                                                                                                                 \n",
    "sex - 1 = male, 0 = female                                                                                                                                     \n",
    "cp - chest pain type: 0: asymptomatic, 1: typical angina, 2: atypical angina, 3: non-anginal pain                                                             \n",
    "trestbps - resting blood pressure in mmHg                                                                                                                     \n",
    "chol - serum cholesterol in mg/dL                                                                                                                             \n",
    "fbs - fasting blood sugar > 120. 1 = true, 0 = false                                                                                                           \n",
    "restecg - electrocardiogram results: 0:Normal, 1:ST-T wave abnormality, 2:left ventricular hypertrophy                                                         \n",
    "max_hr - greatest heart rate achievable through strenuous exercise in bpm                                                                                     \n",
    "exang - exercise induced angina - 1: yes, 2: no                                                                                                               \n",
    "oldpeak - ST depression induced by exercise relative to rest in mm                                                                                             \n",
    "slope - the slope of the peak exercise ST segment - 1: upsloping, 2: flat, 3: downsloping                                                                     \n",
    "blocked_vessels - number of major vessels colored by fluoroscopy, indicating a degree of clogging in the vessel.                                               \n",
    "thal - thallium absorption - 1:Normal, 2:fixed defect, 3:reversible defect. A fixed defect indicates scarring in myocardial tissue.\n",
    "\n",
    "heart_attack - 1: Inividual had a heart attack, 0: individual did not have a heart attack"
   ]
  },
  {
   "cell_type": "markdown",
   "id": "9a594e64-46d6-4b75-b2b6-0fa5a360f2a2",
   "metadata": {},
   "source": [
    "# ____________________________________________________________________________"
   ]
  },
  {
   "cell_type": "markdown",
   "id": "f3fb927a-5461-4aba-b0b6-bc28c0e78ebd",
   "metadata": {},
   "source": [
    "#### Importing packages for future use"
   ]
  },
  {
   "cell_type": "code",
   "execution_count": 1,
   "id": "d03121ce-bd49-41f6-9b6f-6b56affab6fa",
   "metadata": {},
   "outputs": [],
   "source": [
    "import numpy as np\n",
    "import pandas as pd\n",
    "import os \n",
    "import matplotlib.pyplot as plt\n",
    "from scipy import stats"
   ]
  },
  {
   "cell_type": "markdown",
   "id": "35725256-7cd8-4cd9-8a4b-49d83d4e5ebb",
   "metadata": {},
   "source": [
    "# ____________________________________________________________________________"
   ]
  },
  {
   "cell_type": "markdown",
   "id": "2a8c2220-4506-4443-9be3-d5bbed4c9cb0",
   "metadata": {},
   "source": [
    "## Reading in Data"
   ]
  },
  {
   "cell_type": "code",
   "execution_count": 2,
   "id": "b3991d22-41ca-4fe6-b7dc-e06bf9e607d6",
   "metadata": {},
   "outputs": [
    {
     "data": {
      "text/plain": [
       "'/Users/adam/Desktop/Data Science/Project'"
      ]
     },
     "execution_count": 2,
     "metadata": {},
     "output_type": "execute_result"
    }
   ],
   "source": [
    "os.getcwd()"
   ]
  },
  {
   "cell_type": "code",
   "execution_count": 3,
   "id": "6b04aae7-c084-4fbf-908a-8691c60f1c0b",
   "metadata": {},
   "outputs": [],
   "source": [
    "os.chdir('/Users/adam/Desktop/Data Science/Project')"
   ]
  },
  {
   "cell_type": "code",
   "execution_count": 42,
   "id": "329385bb-5aa6-40cc-ad9d-2eb2b9ac6b96",
   "metadata": {},
   "outputs": [],
   "source": [
    "df = pd.read_csv('Heart Attack Data Set.csv')"
   ]
  },
  {
   "cell_type": "code",
   "execution_count": 43,
   "id": "955fd9a8-d877-4f0f-b2be-5227b0171f30",
   "metadata": {},
   "outputs": [
    {
     "data": {
      "text/html": [
       "<div>\n",
       "<style scoped>\n",
       "    .dataframe tbody tr th:only-of-type {\n",
       "        vertical-align: middle;\n",
       "    }\n",
       "\n",
       "    .dataframe tbody tr th {\n",
       "        vertical-align: top;\n",
       "    }\n",
       "\n",
       "    .dataframe thead th {\n",
       "        text-align: right;\n",
       "    }\n",
       "</style>\n",
       "<table border=\"1\" class=\"dataframe\">\n",
       "  <thead>\n",
       "    <tr style=\"text-align: right;\">\n",
       "      <th></th>\n",
       "      <th>age</th>\n",
       "      <th>sex</th>\n",
       "      <th>cp</th>\n",
       "      <th>trestbps</th>\n",
       "      <th>chol</th>\n",
       "      <th>fbs</th>\n",
       "      <th>restecg</th>\n",
       "      <th>thalach</th>\n",
       "      <th>exang</th>\n",
       "      <th>oldpeak</th>\n",
       "      <th>slope</th>\n",
       "      <th>ca</th>\n",
       "      <th>thal</th>\n",
       "      <th>target</th>\n",
       "    </tr>\n",
       "  </thead>\n",
       "  <tbody>\n",
       "    <tr>\n",
       "      <th>0</th>\n",
       "      <td>63</td>\n",
       "      <td>1</td>\n",
       "      <td>3</td>\n",
       "      <td>145</td>\n",
       "      <td>233</td>\n",
       "      <td>1</td>\n",
       "      <td>0</td>\n",
       "      <td>150</td>\n",
       "      <td>0</td>\n",
       "      <td>2.3</td>\n",
       "      <td>0</td>\n",
       "      <td>0</td>\n",
       "      <td>1</td>\n",
       "      <td>1</td>\n",
       "    </tr>\n",
       "    <tr>\n",
       "      <th>1</th>\n",
       "      <td>37</td>\n",
       "      <td>1</td>\n",
       "      <td>2</td>\n",
       "      <td>130</td>\n",
       "      <td>250</td>\n",
       "      <td>0</td>\n",
       "      <td>1</td>\n",
       "      <td>187</td>\n",
       "      <td>0</td>\n",
       "      <td>3.5</td>\n",
       "      <td>0</td>\n",
       "      <td>0</td>\n",
       "      <td>2</td>\n",
       "      <td>1</td>\n",
       "    </tr>\n",
       "    <tr>\n",
       "      <th>2</th>\n",
       "      <td>41</td>\n",
       "      <td>0</td>\n",
       "      <td>1</td>\n",
       "      <td>130</td>\n",
       "      <td>204</td>\n",
       "      <td>0</td>\n",
       "      <td>0</td>\n",
       "      <td>172</td>\n",
       "      <td>0</td>\n",
       "      <td>1.4</td>\n",
       "      <td>2</td>\n",
       "      <td>0</td>\n",
       "      <td>2</td>\n",
       "      <td>1</td>\n",
       "    </tr>\n",
       "    <tr>\n",
       "      <th>3</th>\n",
       "      <td>56</td>\n",
       "      <td>1</td>\n",
       "      <td>1</td>\n",
       "      <td>120</td>\n",
       "      <td>236</td>\n",
       "      <td>0</td>\n",
       "      <td>1</td>\n",
       "      <td>178</td>\n",
       "      <td>0</td>\n",
       "      <td>0.8</td>\n",
       "      <td>2</td>\n",
       "      <td>0</td>\n",
       "      <td>2</td>\n",
       "      <td>1</td>\n",
       "    </tr>\n",
       "    <tr>\n",
       "      <th>4</th>\n",
       "      <td>57</td>\n",
       "      <td>0</td>\n",
       "      <td>0</td>\n",
       "      <td>120</td>\n",
       "      <td>354</td>\n",
       "      <td>0</td>\n",
       "      <td>1</td>\n",
       "      <td>163</td>\n",
       "      <td>1</td>\n",
       "      <td>0.6</td>\n",
       "      <td>2</td>\n",
       "      <td>0</td>\n",
       "      <td>2</td>\n",
       "      <td>1</td>\n",
       "    </tr>\n",
       "    <tr>\n",
       "      <th>...</th>\n",
       "      <td>...</td>\n",
       "      <td>...</td>\n",
       "      <td>...</td>\n",
       "      <td>...</td>\n",
       "      <td>...</td>\n",
       "      <td>...</td>\n",
       "      <td>...</td>\n",
       "      <td>...</td>\n",
       "      <td>...</td>\n",
       "      <td>...</td>\n",
       "      <td>...</td>\n",
       "      <td>...</td>\n",
       "      <td>...</td>\n",
       "      <td>...</td>\n",
       "    </tr>\n",
       "    <tr>\n",
       "      <th>298</th>\n",
       "      <td>57</td>\n",
       "      <td>0</td>\n",
       "      <td>0</td>\n",
       "      <td>140</td>\n",
       "      <td>241</td>\n",
       "      <td>0</td>\n",
       "      <td>1</td>\n",
       "      <td>123</td>\n",
       "      <td>1</td>\n",
       "      <td>0.2</td>\n",
       "      <td>1</td>\n",
       "      <td>0</td>\n",
       "      <td>3</td>\n",
       "      <td>0</td>\n",
       "    </tr>\n",
       "    <tr>\n",
       "      <th>299</th>\n",
       "      <td>45</td>\n",
       "      <td>1</td>\n",
       "      <td>3</td>\n",
       "      <td>110</td>\n",
       "      <td>264</td>\n",
       "      <td>0</td>\n",
       "      <td>1</td>\n",
       "      <td>132</td>\n",
       "      <td>0</td>\n",
       "      <td>1.2</td>\n",
       "      <td>1</td>\n",
       "      <td>0</td>\n",
       "      <td>3</td>\n",
       "      <td>0</td>\n",
       "    </tr>\n",
       "    <tr>\n",
       "      <th>300</th>\n",
       "      <td>68</td>\n",
       "      <td>1</td>\n",
       "      <td>0</td>\n",
       "      <td>144</td>\n",
       "      <td>193</td>\n",
       "      <td>1</td>\n",
       "      <td>1</td>\n",
       "      <td>141</td>\n",
       "      <td>0</td>\n",
       "      <td>3.4</td>\n",
       "      <td>1</td>\n",
       "      <td>2</td>\n",
       "      <td>3</td>\n",
       "      <td>0</td>\n",
       "    </tr>\n",
       "    <tr>\n",
       "      <th>301</th>\n",
       "      <td>57</td>\n",
       "      <td>1</td>\n",
       "      <td>0</td>\n",
       "      <td>130</td>\n",
       "      <td>131</td>\n",
       "      <td>0</td>\n",
       "      <td>1</td>\n",
       "      <td>115</td>\n",
       "      <td>1</td>\n",
       "      <td>1.2</td>\n",
       "      <td>1</td>\n",
       "      <td>1</td>\n",
       "      <td>3</td>\n",
       "      <td>0</td>\n",
       "    </tr>\n",
       "    <tr>\n",
       "      <th>302</th>\n",
       "      <td>57</td>\n",
       "      <td>0</td>\n",
       "      <td>1</td>\n",
       "      <td>130</td>\n",
       "      <td>236</td>\n",
       "      <td>0</td>\n",
       "      <td>0</td>\n",
       "      <td>174</td>\n",
       "      <td>0</td>\n",
       "      <td>0.0</td>\n",
       "      <td>1</td>\n",
       "      <td>1</td>\n",
       "      <td>2</td>\n",
       "      <td>0</td>\n",
       "    </tr>\n",
       "  </tbody>\n",
       "</table>\n",
       "<p>303 rows × 14 columns</p>\n",
       "</div>"
      ],
      "text/plain": [
       "     age  sex  cp  trestbps  chol  fbs  restecg  thalach  exang  oldpeak  \\\n",
       "0     63    1   3       145   233    1        0      150      0      2.3   \n",
       "1     37    1   2       130   250    0        1      187      0      3.5   \n",
       "2     41    0   1       130   204    0        0      172      0      1.4   \n",
       "3     56    1   1       120   236    0        1      178      0      0.8   \n",
       "4     57    0   0       120   354    0        1      163      1      0.6   \n",
       "..   ...  ...  ..       ...   ...  ...      ...      ...    ...      ...   \n",
       "298   57    0   0       140   241    0        1      123      1      0.2   \n",
       "299   45    1   3       110   264    0        1      132      0      1.2   \n",
       "300   68    1   0       144   193    1        1      141      0      3.4   \n",
       "301   57    1   0       130   131    0        1      115      1      1.2   \n",
       "302   57    0   1       130   236    0        0      174      0      0.0   \n",
       "\n",
       "     slope  ca  thal  target  \n",
       "0        0   0     1       1  \n",
       "1        0   0     2       1  \n",
       "2        2   0     2       1  \n",
       "3        2   0     2       1  \n",
       "4        2   0     2       1  \n",
       "..     ...  ..   ...     ...  \n",
       "298      1   0     3       0  \n",
       "299      1   0     3       0  \n",
       "300      1   2     3       0  \n",
       "301      1   1     3       0  \n",
       "302      1   1     2       0  \n",
       "\n",
       "[303 rows x 14 columns]"
      ]
     },
     "execution_count": 43,
     "metadata": {},
     "output_type": "execute_result"
    }
   ],
   "source": [
    "df"
   ]
  },
  {
   "cell_type": "markdown",
   "id": "fe27a70e-5f52-4fd7-9808-fdee15adf489",
   "metadata": {},
   "source": [
    "#### Renaming some columns to more accurately represent the variables:"
   ]
  },
  {
   "cell_type": "code",
   "execution_count": 44,
   "id": "e2158ea5-c99c-4ae3-b2b7-3fdda1eee53c",
   "metadata": {},
   "outputs": [],
   "source": [
    "df2 = df.rename(columns = {'target':'heart_attack', 'trestbps':'rest_bp', 'thalach':'max_hr', 'restecg':'ecg', 'slope':'st_slope', \n",
    "                           'ca':'blocked_vessels', 'oldpeak':'st_depression'})\n"
   ]
  },
  {
   "cell_type": "code",
   "execution_count": 56,
   "id": "bb4d5fe1-bf07-4e77-be16-f151be1dcf84",
   "metadata": {},
   "outputs": [
    {
     "data": {
      "text/html": [
       "<div>\n",
       "<style scoped>\n",
       "    .dataframe tbody tr th:only-of-type {\n",
       "        vertical-align: middle;\n",
       "    }\n",
       "\n",
       "    .dataframe tbody tr th {\n",
       "        vertical-align: top;\n",
       "    }\n",
       "\n",
       "    .dataframe thead th {\n",
       "        text-align: right;\n",
       "    }\n",
       "</style>\n",
       "<table border=\"1\" class=\"dataframe\">\n",
       "  <thead>\n",
       "    <tr style=\"text-align: right;\">\n",
       "      <th></th>\n",
       "      <th>age</th>\n",
       "      <th>sex</th>\n",
       "      <th>cp</th>\n",
       "      <th>rest_bp</th>\n",
       "      <th>chol</th>\n",
       "      <th>fbs</th>\n",
       "      <th>ecg</th>\n",
       "      <th>max_hr</th>\n",
       "      <th>exang</th>\n",
       "      <th>st_depression</th>\n",
       "      <th>st_slope</th>\n",
       "      <th>blocked_vessels</th>\n",
       "      <th>thal</th>\n",
       "      <th>heart_attack</th>\n",
       "    </tr>\n",
       "  </thead>\n",
       "  <tbody>\n",
       "    <tr>\n",
       "      <th>0</th>\n",
       "      <td>63</td>\n",
       "      <td>1</td>\n",
       "      <td>3</td>\n",
       "      <td>145</td>\n",
       "      <td>233</td>\n",
       "      <td>1</td>\n",
       "      <td>0</td>\n",
       "      <td>150</td>\n",
       "      <td>0</td>\n",
       "      <td>2.3</td>\n",
       "      <td>0</td>\n",
       "      <td>0</td>\n",
       "      <td>1</td>\n",
       "      <td>1</td>\n",
       "    </tr>\n",
       "    <tr>\n",
       "      <th>1</th>\n",
       "      <td>37</td>\n",
       "      <td>1</td>\n",
       "      <td>2</td>\n",
       "      <td>130</td>\n",
       "      <td>250</td>\n",
       "      <td>0</td>\n",
       "      <td>1</td>\n",
       "      <td>187</td>\n",
       "      <td>0</td>\n",
       "      <td>3.5</td>\n",
       "      <td>0</td>\n",
       "      <td>0</td>\n",
       "      <td>2</td>\n",
       "      <td>1</td>\n",
       "    </tr>\n",
       "    <tr>\n",
       "      <th>2</th>\n",
       "      <td>41</td>\n",
       "      <td>0</td>\n",
       "      <td>1</td>\n",
       "      <td>130</td>\n",
       "      <td>204</td>\n",
       "      <td>0</td>\n",
       "      <td>0</td>\n",
       "      <td>172</td>\n",
       "      <td>0</td>\n",
       "      <td>1.4</td>\n",
       "      <td>2</td>\n",
       "      <td>0</td>\n",
       "      <td>2</td>\n",
       "      <td>1</td>\n",
       "    </tr>\n",
       "    <tr>\n",
       "      <th>3</th>\n",
       "      <td>56</td>\n",
       "      <td>1</td>\n",
       "      <td>1</td>\n",
       "      <td>120</td>\n",
       "      <td>236</td>\n",
       "      <td>0</td>\n",
       "      <td>1</td>\n",
       "      <td>178</td>\n",
       "      <td>0</td>\n",
       "      <td>0.8</td>\n",
       "      <td>2</td>\n",
       "      <td>0</td>\n",
       "      <td>2</td>\n",
       "      <td>1</td>\n",
       "    </tr>\n",
       "    <tr>\n",
       "      <th>4</th>\n",
       "      <td>57</td>\n",
       "      <td>0</td>\n",
       "      <td>0</td>\n",
       "      <td>120</td>\n",
       "      <td>354</td>\n",
       "      <td>0</td>\n",
       "      <td>1</td>\n",
       "      <td>163</td>\n",
       "      <td>1</td>\n",
       "      <td>0.6</td>\n",
       "      <td>2</td>\n",
       "      <td>0</td>\n",
       "      <td>2</td>\n",
       "      <td>1</td>\n",
       "    </tr>\n",
       "    <tr>\n",
       "      <th>...</th>\n",
       "      <td>...</td>\n",
       "      <td>...</td>\n",
       "      <td>...</td>\n",
       "      <td>...</td>\n",
       "      <td>...</td>\n",
       "      <td>...</td>\n",
       "      <td>...</td>\n",
       "      <td>...</td>\n",
       "      <td>...</td>\n",
       "      <td>...</td>\n",
       "      <td>...</td>\n",
       "      <td>...</td>\n",
       "      <td>...</td>\n",
       "      <td>...</td>\n",
       "    </tr>\n",
       "    <tr>\n",
       "      <th>298</th>\n",
       "      <td>57</td>\n",
       "      <td>0</td>\n",
       "      <td>0</td>\n",
       "      <td>140</td>\n",
       "      <td>241</td>\n",
       "      <td>0</td>\n",
       "      <td>1</td>\n",
       "      <td>123</td>\n",
       "      <td>1</td>\n",
       "      <td>0.2</td>\n",
       "      <td>1</td>\n",
       "      <td>0</td>\n",
       "      <td>3</td>\n",
       "      <td>0</td>\n",
       "    </tr>\n",
       "    <tr>\n",
       "      <th>299</th>\n",
       "      <td>45</td>\n",
       "      <td>1</td>\n",
       "      <td>3</td>\n",
       "      <td>110</td>\n",
       "      <td>264</td>\n",
       "      <td>0</td>\n",
       "      <td>1</td>\n",
       "      <td>132</td>\n",
       "      <td>0</td>\n",
       "      <td>1.2</td>\n",
       "      <td>1</td>\n",
       "      <td>0</td>\n",
       "      <td>3</td>\n",
       "      <td>0</td>\n",
       "    </tr>\n",
       "    <tr>\n",
       "      <th>300</th>\n",
       "      <td>68</td>\n",
       "      <td>1</td>\n",
       "      <td>0</td>\n",
       "      <td>144</td>\n",
       "      <td>193</td>\n",
       "      <td>1</td>\n",
       "      <td>1</td>\n",
       "      <td>141</td>\n",
       "      <td>0</td>\n",
       "      <td>3.4</td>\n",
       "      <td>1</td>\n",
       "      <td>2</td>\n",
       "      <td>3</td>\n",
       "      <td>0</td>\n",
       "    </tr>\n",
       "    <tr>\n",
       "      <th>301</th>\n",
       "      <td>57</td>\n",
       "      <td>1</td>\n",
       "      <td>0</td>\n",
       "      <td>130</td>\n",
       "      <td>131</td>\n",
       "      <td>0</td>\n",
       "      <td>1</td>\n",
       "      <td>115</td>\n",
       "      <td>1</td>\n",
       "      <td>1.2</td>\n",
       "      <td>1</td>\n",
       "      <td>1</td>\n",
       "      <td>3</td>\n",
       "      <td>0</td>\n",
       "    </tr>\n",
       "    <tr>\n",
       "      <th>302</th>\n",
       "      <td>57</td>\n",
       "      <td>0</td>\n",
       "      <td>1</td>\n",
       "      <td>130</td>\n",
       "      <td>236</td>\n",
       "      <td>0</td>\n",
       "      <td>0</td>\n",
       "      <td>174</td>\n",
       "      <td>0</td>\n",
       "      <td>0.0</td>\n",
       "      <td>1</td>\n",
       "      <td>1</td>\n",
       "      <td>2</td>\n",
       "      <td>0</td>\n",
       "    </tr>\n",
       "  </tbody>\n",
       "</table>\n",
       "<p>303 rows × 14 columns</p>\n",
       "</div>"
      ],
      "text/plain": [
       "     age  sex  cp  rest_bp  chol  fbs  ecg  max_hr  exang  st_depression  \\\n",
       "0     63    1   3      145   233    1    0     150      0            2.3   \n",
       "1     37    1   2      130   250    0    1     187      0            3.5   \n",
       "2     41    0   1      130   204    0    0     172      0            1.4   \n",
       "3     56    1   1      120   236    0    1     178      0            0.8   \n",
       "4     57    0   0      120   354    0    1     163      1            0.6   \n",
       "..   ...  ...  ..      ...   ...  ...  ...     ...    ...            ...   \n",
       "298   57    0   0      140   241    0    1     123      1            0.2   \n",
       "299   45    1   3      110   264    0    1     132      0            1.2   \n",
       "300   68    1   0      144   193    1    1     141      0            3.4   \n",
       "301   57    1   0      130   131    0    1     115      1            1.2   \n",
       "302   57    0   1      130   236    0    0     174      0            0.0   \n",
       "\n",
       "     st_slope  blocked_vessels  thal  heart_attack  \n",
       "0           0                0     1             1  \n",
       "1           0                0     2             1  \n",
       "2           2                0     2             1  \n",
       "3           2                0     2             1  \n",
       "4           2                0     2             1  \n",
       "..        ...              ...   ...           ...  \n",
       "298         1                0     3             0  \n",
       "299         1                0     3             0  \n",
       "300         1                2     3             0  \n",
       "301         1                1     3             0  \n",
       "302         1                1     2             0  \n",
       "\n",
       "[303 rows x 14 columns]"
      ]
     },
     "execution_count": 56,
     "metadata": {},
     "output_type": "execute_result"
    }
   ],
   "source": [
    "df2"
   ]
  },
  {
   "cell_type": "markdown",
   "id": "a56c0261-83ba-46d6-b47a-de069e38b84b",
   "metadata": {},
   "source": [
    "#### Checking data types of the variables"
   ]
  },
  {
   "cell_type": "code",
   "execution_count": 54,
   "id": "1e7f65a7-f4cb-4b36-9787-ab9df667e89b",
   "metadata": {},
   "outputs": [
    {
     "data": {
      "text/plain": [
       "age                  int64\n",
       "sex                  int64\n",
       "cp                   int64\n",
       "rest_bp              int64\n",
       "chol                 int64\n",
       "fbs                  int64\n",
       "ecg                  int64\n",
       "max_hr               int64\n",
       "exang                int64\n",
       "st_depression      float64\n",
       "st_slope             int64\n",
       "blocked_vessels      int64\n",
       "thal                 int64\n",
       "heart_attack         int64\n",
       "dtype: object"
      ]
     },
     "execution_count": 54,
     "metadata": {},
     "output_type": "execute_result"
    }
   ],
   "source": [
    "df2.dtypes"
   ]
  },
  {
   "cell_type": "markdown",
   "id": "bb8cd94c-0359-418f-ac37-a25b4d6397dd",
   "metadata": {},
   "source": [
    "# ____________________________________________________________________________"
   ]
  },
  {
   "cell_type": "markdown",
   "id": "0eae60e3-5bf3-4014-a968-13a003e4c706",
   "metadata": {},
   "source": [
    "### Exploring heart attack versus no heart attack: Creating two new datasets to compare other variables between them \n",
    "        - df_ha includes all rows where the individual had a heart attack\n",
    "        - df_noha includes all rows where the individual did not have a heart attack "
   ]
  },
  {
   "cell_type": "code",
   "execution_count": 55,
   "id": "67927d85-37e1-45a9-bd58-96cbf5e83fbc",
   "metadata": {},
   "outputs": [
    {
     "data": {
      "text/plain": [
       "1    165\n",
       "0    138\n",
       "Name: heart_attack, dtype: int64"
      ]
     },
     "execution_count": 55,
     "metadata": {},
     "output_type": "execute_result"
    }
   ],
   "source": [
    "df2['heart_attack'].value_counts()"
   ]
  },
  {
   "cell_type": "code",
   "execution_count": 47,
   "id": "9a0dfffa-2771-4248-b284-1224309e152a",
   "metadata": {},
   "outputs": [],
   "source": [
    "df_ha = df2.loc[df2['heart_attack'] == 1]\n",
    "df_noha = df2.loc[df2['heart_attack'] == 0]"
   ]
  },
  {
   "cell_type": "markdown",
   "id": "2fa05a88-1d90-4dd1-bf4c-c3f158e507c4",
   "metadata": {},
   "source": [
    "# ____________________________________________________________________________"
   ]
  },
  {
   "cell_type": "markdown",
   "id": "0b8cf6c5-b9b7-468d-b700-996cb8f9185f",
   "metadata": {},
   "source": [
    "## Defining Functions \n",
    "    - exploration_categorical is to be used for columns that are categorical variables\n",
    "        - takes column name as input\n",
    "        - outputs\n",
    "            - value counts for the variable in both the heart attack and no heart attack data sets\n",
    "            - A color-coded histogram to visually compare frequencies of the values across the data sets\n",
    "            - the results of a chi-square test, indicating correlation with heart attack occurence because it measures the difference between the expected frequencies and the observed. \n",
    "    - exploration_continuous is to be used for columns that are continuous variables \n",
    "        - takes column name as input\n",
    "        - outputs\n",
    "            - summary statistics for the variable in the heart attack dataset versus non-heart attack data set \n",
    "            - a side by side box plot for the variable in the two data sets\n",
    "            - the results of a two sample T-test, indicating correlation with heart attack occurence because it measures the probablity that the difference in means across the two groups is due to chance"
   ]
  },
  {
   "cell_type": "code",
   "execution_count": 49,
   "id": "fcd7ea5b-7369-4b8c-a48b-0bb260675bf5",
   "metadata": {},
   "outputs": [],
   "source": [
    "def exploration_categorical(categorical_col):\n",
    "    contingency_table = pd.crosstab(df2[categorical_col], df2['heart_attack'])\n",
    "    return (\"Heart Attack:\", df_ha[categorical_col].value_counts(),\"No Heart Attack:\",df_noha[categorical_col].value_counts(), \n",
    "            '----------------------------------', \n",
    "            plt.hist(df_ha[categorical_col], alpha = 0.5, label = 'Heart Attack'), plt.hist(df_noha[categorical_col], alpha = 0.5,\n",
    "            label = 'No Heart Attack'),plt.legend(loc='upper left'),\n",
    "            '----------------------------------', \n",
    "            stats.chi2_contingency(contingency_table))\n",
    "\n",
    "def exploration_continuous(continuous_col):\n",
    "    both = (df_ha[continuous_col], df_noha[continuous_col])\n",
    "    return (\"Heart Attack:\", df_ha[continuous_col].describe(), \"No Heart Attack:\", df_noha[continuous_col].describe(),\n",
    "            '----------------------------------',\n",
    "            plt.boxplot(both, labels = ['Heart Attack', 'No Heart Attack']), \n",
    "            '----------------------------------', \n",
    "            stats.ttest_ind(df_ha[continuous_col], df_noha[continuous_col]))\n",
    "        \n",
    "    \n",
    "        "
   ]
  },
  {
   "cell_type": "markdown",
   "id": "1095650f-644f-4b21-bef9-fd865622c983",
   "metadata": {},
   "source": [
    "# ____________________________________________________________________________"
   ]
  },
  {
   "cell_type": "markdown",
   "id": "e60724f4-aa78-4092-b262-1b3ad62f8287",
   "metadata": {},
   "source": [
    "## Unit Testing\n",
    "    - [Insert sentence or two about the unit tests]"
   ]
  },
  {
   "cell_type": "code",
   "execution_count": 63,
   "id": "bf952d5e-8b66-4119-b820-c7596d33ebcb",
   "metadata": {
    "tags": []
   },
   "outputs": [
    {
     "name": "stdout",
     "output_type": "stream",
     "text": [
      "None\n"
     ]
    },
    {
     "data": {
      "image/png": "[encoded data removed]",
      "text/plain": [
       "<Figure size 432x288 with 1 Axes>"
      ]
     },
     "metadata": {
      "needs_background": "light"
     },
     "output_type": "display_data"
    }
   ],
   "source": [
    "from unittest import TestCase\n",
    " \n",
    "tc = TestCase()\n",
    " \n",
    "print(tc.assertEqual(exploration_categorical('thal')[1][2], 130))\n"
   ]
  },
  {
   "cell_type": "code",
   "execution_count": 64,
   "id": "0b47d061-7086-48c1-89f1-7b16a0ab12a7",
   "metadata": {},
   "outputs": [
    {
     "name": "stdout",
     "output_type": "stream",
     "text": [
      "None\n"
     ]
    },
    {
     "data": {
      "image/png": "[encoded data removed]",
      "text/plain": [
       "<Figure size 432x288 with 1 Axes>"
      ]
     },
     "metadata": {
      "needs_background": "light"
     },
     "output_type": "display_data"
    }
   ],
   "source": [
    "print(tc.assertEqual(exploration_continuous('rest_bp')[1][0], 165.0))"
   ]
  },
  {
   "cell_type": "markdown",
   "id": "344cdc2f-bd05-40b0-b6de-9b9677efe926",
   "metadata": {},
   "source": [
    "# ____________________________________________________________________________"
   ]
  },
  {
   "cell_type": "markdown",
   "id": "9cf4e10a-93a0-45ae-99cf-5f57ce1d7808",
   "metadata": {},
   "source": [
    "## Data Processing"
   ]
  },
  {
   "cell_type": "markdown",
   "id": "21b0b26f-34ba-4d2a-93b9-2261c7fc95cb",
   "metadata": {},
   "source": [
    "### Sex"
   ]
  },
  {
   "cell_type": "code",
   "execution_count": 60,
   "id": "c892c2f7-473a-4868-85b3-5f4715bb022e",
   "metadata": {},
   "outputs": [
    {
     "data": {
      "text/plain": [
       "('Heart Attack:',\n",
       " 1    93\n",
       " 0    72\n",
       " Name: sex, dtype: int64,\n",
       " 'No Heart Attack:',\n",
       " 1    114\n",
       " 0     24\n",
       " Name: sex, dtype: int64,\n",
       " '----------------------------------',\n",
       " (array([72.,  0.,  0.,  0.,  0.,  0.,  0.,  0.,  0., 93.]),\n",
       "  array([0. , 0.1, 0.2, 0.3, 0.4, 0.5, 0.6, 0.7, 0.8, 0.9, 1. ]),\n",
       "  <BarContainer object of 10 artists>),\n",
       " (array([ 24.,   0.,   0.,   0.,   0.,   0.,   0.,   0.,   0., 114.]),\n",
       "  array([0. , 0.1, 0.2, 0.3, 0.4, 0.5, 0.6, 0.7, 0.8, 0.9, 1. ]),\n",
       "  <BarContainer object of 10 artists>),\n",
       " <matplotlib.legend.Legend at 0x7fc7a9afd7c0>,\n",
       " '----------------------------------',\n",
       " (22.717227046576355,\n",
       "  1.8767776216941503e-06,\n",
       "  1,\n",
       "  array([[ 43.72277228,  52.27722772],\n",
       "         [ 94.27722772, 112.72277228]])))"
      ]
     },
     "execution_count": 60,
     "metadata": {},
     "output_type": "execute_result"
    },
    {
     "data": {
      "image/png": "[encoded data removed]",
      "text/plain": [
       "<Figure size 432x288 with 1 Axes>"
      ]
     },
     "metadata": {
      "needs_background": "light"
     },
     "output_type": "display_data"
    }
   ],
   "source": [
    "exploration_categorical('sex')"
   ]
  },
  {
   "cell_type": "markdown",
   "id": "394f687a-2f18-4bd5-a8d5-a17aa545439e",
   "metadata": {},
   "source": [
    "### P-Value: = 1.877e-6"
   ]
  },
  {
   "cell_type": "markdown",
   "id": "8037287e-7151-4649-8b60-b982a27f9b49",
   "metadata": {},
   "source": [
    "# ---------------------------------------------------------"
   ]
  },
  {
   "cell_type": "markdown",
   "id": "c0f428d6-8dc0-4d6a-85a6-ed19a6bdf93d",
   "metadata": {},
   "source": [
    "### Chest Pain"
   ]
  },
  {
   "cell_type": "code",
   "execution_count": 27,
   "id": "bac0b2df-2b51-4a47-aa1f-2930e98956c3",
   "metadata": {},
   "outputs": [
    {
     "data": {
      "text/plain": [
       "('Heart Attack:',\n",
       " 2    69\n",
       " 1    41\n",
       " 0    39\n",
       " 3    16\n",
       " Name: cp, dtype: int64,\n",
       " 'No Heart Attack:',\n",
       " 0    104\n",
       " 2     18\n",
       " 1      9\n",
       " 3      7\n",
       " Name: cp, dtype: int64,\n",
       " '----------------------------------',\n",
       " (array([39.,  0.,  0., 41.,  0.,  0., 69.,  0.,  0., 16.]),\n",
       "  array([0. , 0.3, 0.6, 0.9, 1.2, 1.5, 1.8, 2.1, 2.4, 2.7, 3. ]),\n",
       "  <BarContainer object of 10 artists>),\n",
       " (array([104.,   0.,   0.,   9.,   0.,   0.,  18.,   0.,   0.,   7.]),\n",
       "  array([0. , 0.3, 0.6, 0.9, 1.2, 1.5, 1.8, 2.1, 2.4, 2.7, 3. ]),\n",
       "  <BarContainer object of 10 artists>),\n",
       " <matplotlib.legend.Legend at 0x7fc7a88e04f0>,\n",
       " '----------------------------------',\n",
       " (81.68642755194445,\n",
       "  1.3343043373050064e-17,\n",
       "  3,\n",
       "  array([[65.12871287, 77.87128713],\n",
       "         [22.77227723, 27.22772277],\n",
       "         [39.62376238, 47.37623762],\n",
       "         [10.47524752, 12.52475248]])))"
      ]
     },
     "execution_count": 27,
     "metadata": {},
     "output_type": "execute_result"
    },
    {
     "data": {
      "image/png": "[encoded data removed]",
      "text/plain": [
       "<Figure size 432x288 with 1 Axes>"
      ]
     },
     "metadata": {
      "needs_background": "light"
     },
     "output_type": "display_data"
    }
   ],
   "source": [
    "exploration_categorical('cp')"
   ]
  },
  {
   "cell_type": "markdown",
   "id": "ac57a379-6388-42c1-9114-1fd87040e725",
   "metadata": {},
   "source": [
    "### P-Value = 1.334e-17"
   ]
  },
  {
   "cell_type": "markdown",
   "id": "d773aa6a-3191-4d7f-8816-4be7fcf30071",
   "metadata": {},
   "source": [
    "# ---------------------------------------------------------"
   ]
  },
  {
   "cell_type": "markdown",
   "id": "2007cebf-355a-474e-a1ae-7e2496b3505c",
   "metadata": {},
   "source": [
    "### Fasting Blood Sugar "
   ]
  },
  {
   "cell_type": "code",
   "execution_count": 28,
   "id": "2285f408-c093-40cf-bd9e-7c68f1392f53",
   "metadata": {},
   "outputs": [
    {
     "data": {
      "text/plain": [
       "('Heart Attack:',\n",
       " 0    142\n",
       " 1     23\n",
       " Name: fbs, dtype: int64,\n",
       " 'No Heart Attack:',\n",
       " 0    116\n",
       " 1     22\n",
       " Name: fbs, dtype: int64,\n",
       " '----------------------------------',\n",
       " (array([142.,   0.,   0.,   0.,   0.,   0.,   0.,   0.,   0.,  23.]),\n",
       "  array([0. , 0.1, 0.2, 0.3, 0.4, 0.5, 0.6, 0.7, 0.8, 0.9, 1. ]),\n",
       "  <BarContainer object of 10 artists>),\n",
       " (array([116.,   0.,   0.,   0.,   0.,   0.,   0.,   0.,   0.,  22.]),\n",
       "  array([0. , 0.1, 0.2, 0.3, 0.4, 0.5, 0.6, 0.7, 0.8, 0.9, 1. ]),\n",
       "  <BarContainer object of 10 artists>),\n",
       " <matplotlib.legend.Legend at 0x7fc7a89ee040>,\n",
       " '----------------------------------',\n",
       " (0.10627276301947715,\n",
       "  0.7444281114149577,\n",
       "  1,\n",
       "  array([[117.5049505, 140.4950495],\n",
       "         [ 20.4950495,  24.5049505]])))"
      ]
     },
     "execution_count": 28,
     "metadata": {},
     "output_type": "execute_result"
    },
    {
     "data": {
      "image/png": "[encoded data removed]",
      "text/plain": [
       "<Figure size 432x288 with 1 Axes>"
      ]
     },
     "metadata": {
      "needs_background": "light"
     },
     "output_type": "display_data"
    }
   ],
   "source": [
    "exploration_categorical('fbs')"
   ]
  },
  {
   "cell_type": "markdown",
   "id": "723bace6-6e5a-4448-a570-d47c57137fef",
   "metadata": {},
   "source": [
    "### P-Value = 0.744"
   ]
  },
  {
   "cell_type": "markdown",
   "id": "cdc48e8d-8dad-46cb-a70d-fd9b9e35d5dd",
   "metadata": {},
   "source": [
    "# ---------------------------------------------------------"
   ]
  },
  {
   "cell_type": "markdown",
   "id": "96b7e44a-f4b5-4e86-bba3-a7d538ce28a8",
   "metadata": {},
   "source": [
    "### Electrocardiogram Results"
   ]
  },
  {
   "cell_type": "code",
   "execution_count": 29,
   "id": "6bda193c-17b7-4dd5-8c28-945942bb89ab",
   "metadata": {},
   "outputs": [
    {
     "data": {
      "text/plain": [
       "('Heart Attack:',\n",
       " 1    96\n",
       " 0    68\n",
       " 2     1\n",
       " Name: ecg, dtype: int64,\n",
       " 'No Heart Attack:',\n",
       " 0    79\n",
       " 1    56\n",
       " 2     3\n",
       " Name: ecg, dtype: int64,\n",
       " '----------------------------------',\n",
       " (array([68.,  0.,  0.,  0.,  0., 96.,  0.,  0.,  0.,  1.]),\n",
       "  array([0. , 0.2, 0.4, 0.6, 0.8, 1. , 1.2, 1.4, 1.6, 1.8, 2. ]),\n",
       "  <BarContainer object of 10 artists>),\n",
       " (array([79.,  0.,  0.,  0.,  0., 56.,  0.,  0.,  0.,  3.]),\n",
       "  array([0. , 0.2, 0.4, 0.6, 0.8, 1. , 1.2, 1.4, 1.6, 1.8, 2. ]),\n",
       "  <BarContainer object of 10 artists>),\n",
       " <matplotlib.legend.Legend at 0x7fc7a8841430>,\n",
       " '----------------------------------',\n",
       " (10.023091785081,\n",
       "  0.006660598773498031,\n",
       "  2,\n",
       "  array([[66.95049505, 80.04950495],\n",
       "         [69.22772277, 82.77227723],\n",
       "         [ 1.82178218,  2.17821782]])))"
      ]
     },
     "execution_count": 29,
     "metadata": {},
     "output_type": "execute_result"
    },
    {
     "data": {
      "image/png": "[encoded data removed]",
      "text/plain": [
       "<Figure size 432x288 with 1 Axes>"
      ]
     },
     "metadata": {
      "needs_background": "light"
     },
     "output_type": "display_data"
    }
   ],
   "source": [
    "exploration_categorical('ecg')"
   ]
  },
  {
   "cell_type": "markdown",
   "id": "e058745c-629b-40c9-9d43-ef41e085cffd",
   "metadata": {},
   "source": [
    "### P-Value = 0.007"
   ]
  },
  {
   "cell_type": "markdown",
   "id": "103d6db3-b79f-438d-af80-83fd04f2becf",
   "metadata": {
    "tags": []
   },
   "source": [
    "# ---------------------------------------------------------"
   ]
  },
  {
   "cell_type": "markdown",
   "id": "f8117550-7a4a-4dc9-ae95-934f2334a789",
   "metadata": {},
   "source": [
    "### Exercise Angina "
   ]
  },
  {
   "cell_type": "code",
   "execution_count": 30,
   "id": "28f7985d-dc3b-4b7f-8609-607e02723bb8",
   "metadata": {
    "tags": []
   },
   "outputs": [
    {
     "data": {
      "text/plain": [
       "('Heart Attack:',\n",
       " 0    142\n",
       " 1     23\n",
       " Name: exang, dtype: int64,\n",
       " 'No Heart Attack:',\n",
       " 1    76\n",
       " 0    62\n",
       " Name: exang, dtype: int64,\n",
       " '----------------------------------',\n",
       " (array([142.,   0.,   0.,   0.,   0.,   0.,   0.,   0.,   0.,  23.]),\n",
       "  array([0. , 0.1, 0.2, 0.3, 0.4, 0.5, 0.6, 0.7, 0.8, 0.9, 1. ]),\n",
       "  <BarContainer object of 10 artists>),\n",
       " (array([62.,  0.,  0.,  0.,  0.,  0.,  0.,  0.,  0., 76.]),\n",
       "  array([0. , 0.1, 0.2, 0.3, 0.4, 0.5, 0.6, 0.7, 0.8, 0.9, 1. ]),\n",
       "  <BarContainer object of 10 artists>),\n",
       " <matplotlib.legend.Legend at 0x7fc7a8bdbc40>,\n",
       " '----------------------------------',\n",
       " (55.94454996665093,\n",
       "  7.454409331235655e-14,\n",
       "  1,\n",
       "  array([[ 92.91089109, 111.08910891],\n",
       "         [ 45.08910891,  53.91089109]])))"
      ]
     },
     "execution_count": 30,
     "metadata": {},
     "output_type": "execute_result"
    },
    {
     "data": {
      "image/png": "[encoded data removed]",
      "text/plain": [
       "<Figure size 432x288 with 1 Axes>"
      ]
     },
     "metadata": {
      "needs_background": "light"
     },
     "output_type": "display_data"
    }
   ],
   "source": [
    "exploration_categorical('exang')"
   ]
  },
  {
   "cell_type": "markdown",
   "id": "60abcf7c-b090-439c-845a-2120f21eca5d",
   "metadata": {},
   "source": [
    "### P-Value = 7.454e-14"
   ]
  },
  {
   "cell_type": "markdown",
   "id": "f598d912-4360-496a-839e-eaf627a5a9bc",
   "metadata": {},
   "source": [
    "# ---------------------------------------------------------"
   ]
  },
  {
   "cell_type": "markdown",
   "id": "034a62d9-46a3-4acd-b752-609660199fe7",
   "metadata": {},
   "source": [
    "### S-T Slope "
   ]
  },
  {
   "cell_type": "code",
   "execution_count": 31,
   "id": "4621f9c8-a032-434e-908c-ad1e24aa1ad8",
   "metadata": {},
   "outputs": [
    {
     "data": {
      "text/plain": [
       "('Heart Attack:',\n",
       " 2    107\n",
       " 1     49\n",
       " 0      9\n",
       " Name: st_slope, dtype: int64,\n",
       " 'No Heart Attack:',\n",
       " 1    91\n",
       " 2    35\n",
       " 0    12\n",
       " Name: st_slope, dtype: int64,\n",
       " '----------------------------------',\n",
       " (array([  9.,   0.,   0.,   0.,   0.,  49.,   0.,   0.,   0., 107.]),\n",
       "  array([0. , 0.2, 0.4, 0.6, 0.8, 1. , 1.2, 1.4, 1.6, 1.8, 2. ]),\n",
       "  <BarContainer object of 10 artists>),\n",
       " (array([12.,  0.,  0.,  0.,  0., 91.,  0.,  0.,  0., 35.]),\n",
       "  array([0. , 0.2, 0.4, 0.6, 0.8, 1. , 1.2, 1.4, 1.6, 1.8, 2. ]),\n",
       "  <BarContainer object of 10 artists>),\n",
       " <matplotlib.legend.Legend at 0x7fc7a8d44040>,\n",
       " '----------------------------------',\n",
       " (47.506896756030244,\n",
       "  4.830681934276837e-11,\n",
       "  2,\n",
       "  array([[ 9.56435644, 11.43564356],\n",
       "         [63.76237624, 76.23762376],\n",
       "         [64.67326733, 77.32673267]])))"
      ]
     },
     "execution_count": 31,
     "metadata": {},
     "output_type": "execute_result"
    },
    {
     "data": {
      "image/png": "[encoded data removed]",
      "text/plain": [
       "<Figure size 432x288 with 1 Axes>"
      ]
     },
     "metadata": {
      "needs_background": "light"
     },
     "output_type": "display_data"
    }
   ],
   "source": [
    "exploration_categorical('st_slope')"
   ]
  },
  {
   "cell_type": "markdown",
   "id": "38fd8193-22de-4e11-bbfd-c0b058f77942",
   "metadata": {},
   "source": [
    "### P-Value = 4.83e-11"
   ]
  },
  {
   "cell_type": "markdown",
   "id": "f45d4590-7804-4dc0-8d86-53690051df48",
   "metadata": {},
   "source": [
    "# ---------------------------------------------------------"
   ]
  },
  {
   "cell_type": "markdown",
   "id": "b2f177ad-a608-4e66-ad1a-a1e3a576e625",
   "metadata": {},
   "source": [
    "### Thallium Absorption"
   ]
  },
  {
   "cell_type": "code",
   "execution_count": 32,
   "id": "8fba8c95-ae2e-4144-912d-ff8f1dcd0394",
   "metadata": {},
   "outputs": [
    {
     "data": {
      "text/plain": [
       "('Heart Attack:',\n",
       " 2    130\n",
       " 3     28\n",
       " 1      6\n",
       " 0      1\n",
       " Name: thal, dtype: int64,\n",
       " 'No Heart Attack:',\n",
       " 3    89\n",
       " 2    36\n",
       " 1    12\n",
       " 0     1\n",
       " Name: thal, dtype: int64,\n",
       " '----------------------------------',\n",
       " (array([  1.,   0.,   0.,   6.,   0.,   0., 130.,   0.,   0.,  28.]),\n",
       "  array([0. , 0.3, 0.6, 0.9, 1.2, 1.5, 1.8, 2.1, 2.4, 2.7, 3. ]),\n",
       "  <BarContainer object of 10 artists>),\n",
       " (array([ 1.,  0.,  0., 12.,  0.,  0., 36.,  0.,  0., 89.]),\n",
       "  array([0. , 0.3, 0.6, 0.9, 1.2, 1.5, 1.8, 2.1, 2.4, 2.7, 3. ]),\n",
       "  <BarContainer object of 10 artists>),\n",
       " <matplotlib.legend.Legend at 0x7fc7a8e7b400>,\n",
       " '----------------------------------',\n",
       " (85.30373951466147,\n",
       "  2.2333507210129364e-18,\n",
       "  3,\n",
       "  array([[ 0.91089109,  1.08910891],\n",
       "         [ 8.1980198 ,  9.8019802 ],\n",
       "         [75.6039604 , 90.3960396 ],\n",
       "         [53.28712871, 63.71287129]])))"
      ]
     },
     "execution_count": 32,
     "metadata": {},
     "output_type": "execute_result"
    },
    {
     "data": {
      "image/png": "[encoded data removed]",
      "text/plain": [
       "<Figure size 432x288 with 1 Axes>"
      ]
     },
     "metadata": {
      "needs_background": "light"
     },
     "output_type": "display_data"
    }
   ],
   "source": [
    "exploration_categorical('thal')"
   ]
  },
  {
   "cell_type": "markdown",
   "id": "95f22a3f-a89e-4d76-88b7-43846c73da93",
   "metadata": {},
   "source": [
    "### P-Value = 2.233e-18"
   ]
  },
  {
   "cell_type": "markdown",
   "id": "702d65c4-f9aa-4b93-8dfe-fd61adcdaefc",
   "metadata": {},
   "source": [
    "# ---------------------------------------------------------"
   ]
  },
  {
   "cell_type": "markdown",
   "id": "082ae8d4-8878-4485-812a-fcbf0aaac18b",
   "metadata": {},
   "source": [
    "### Age"
   ]
  },
  {
   "cell_type": "code",
   "execution_count": 33,
   "id": "f9367313-1ee7-40f1-bd47-6b9b88076fa6",
   "metadata": {},
   "outputs": [
    {
     "data": {
      "text/plain": [
       "('Heart Attack:',\n",
       " count    165.000000\n",
       " mean      52.496970\n",
       " std        9.550651\n",
       " min       29.000000\n",
       " 25%       44.000000\n",
       " 50%       52.000000\n",
       " 75%       59.000000\n",
       " max       76.000000\n",
       " Name: age, dtype: float64,\n",
       " 'No Heart Attack:',\n",
       " count    138.000000\n",
       " mean      56.601449\n",
       " std        7.962082\n",
       " min       35.000000\n",
       " 25%       52.000000\n",
       " 50%       58.000000\n",
       " 75%       62.000000\n",
       " max       77.000000\n",
       " Name: age, dtype: float64,\n",
       " '----------------------------------',\n",
       " {'whiskers': [<matplotlib.lines.Line2D at 0x7fc7a8f306a0>,\n",
       "   <matplotlib.lines.Line2D at 0x7fc7a8f30a30>,\n",
       "   <matplotlib.lines.Line2D at 0x7fc7a8fa2040>,\n",
       "   <matplotlib.lines.Line2D at 0x7fc7a8fa23d0>],\n",
       "  'caps': [<matplotlib.lines.Line2D at 0x7fc7a8f30dc0>,\n",
       "   <matplotlib.lines.Line2D at 0x7fc7a8f95190>,\n",
       "   <matplotlib.lines.Line2D at 0x7fc7a8fa2760>,\n",
       "   <matplotlib.lines.Line2D at 0x7fc7a8fa2af0>],\n",
       "  'boxes': [<matplotlib.lines.Line2D at 0x7fc7a8f30310>,\n",
       "   <matplotlib.lines.Line2D at 0x7fc7a8f95c70>],\n",
       "  'medians': [<matplotlib.lines.Line2D at 0x7fc7a8f95550>,\n",
       "   <matplotlib.lines.Line2D at 0x7fc7a8fa2e80>],\n",
       "  'fliers': [<matplotlib.lines.Line2D at 0x7fc7a8f958e0>,\n",
       "   <matplotlib.lines.Line2D at 0x7fc7a8fac250>],\n",
       "  'means': []},\n",
       " '----------------------------------',\n",
       " Ttest_indResult(statistic=-4.014560975148874, pvalue=7.524801303442373e-05))"
      ]
     },
     "execution_count": 33,
     "metadata": {},
     "output_type": "execute_result"
    },
    {
     "data": {
      "image/png": "[encoded data removed]",
      "text/plain": [
       "<Figure size 432x288 with 1 Axes>"
      ]
     },
     "metadata": {
      "needs_background": "light"
     },
     "output_type": "display_data"
    }
   ],
   "source": [
    "exploration_continuous('age')"
   ]
  },
  {
   "cell_type": "markdown",
   "id": "300b5ac7-2399-49da-87d6-fd362d05380c",
   "metadata": {},
   "source": [
    "### P-Value = 7.525e-5"
   ]
  },
  {
   "cell_type": "markdown",
   "id": "a1572ccf-2036-49d8-a179-26dd56b49341",
   "metadata": {},
   "source": [
    "# ---------------------------------------------------------"
   ]
  },
  {
   "cell_type": "markdown",
   "id": "7b0997b2-edc0-42f7-9430-0058b18d92be",
   "metadata": {},
   "source": [
    "### Resting Blood Pressure"
   ]
  },
  {
   "cell_type": "code",
   "execution_count": 34,
   "id": "14b07c55-64ec-4f80-94f2-4114ae911b0e",
   "metadata": {},
   "outputs": [
    {
     "data": {
      "text/plain": [
       "('Heart Attack:',\n",
       " count    165.000000\n",
       " mean     129.303030\n",
       " std       16.169613\n",
       " min       94.000000\n",
       " 25%      120.000000\n",
       " 50%      130.000000\n",
       " 75%      140.000000\n",
       " max      180.000000\n",
       " Name: rest_bp, dtype: float64,\n",
       " 'No Heart Attack:',\n",
       " count    138.000000\n",
       " mean     134.398551\n",
       " std       18.729944\n",
       " min      100.000000\n",
       " 25%      120.000000\n",
       " 50%      130.000000\n",
       " 75%      144.750000\n",
       " max      200.000000\n",
       " Name: rest_bp, dtype: float64,\n",
       " '----------------------------------',\n",
       " {'whiskers': [<matplotlib.lines.Line2D at 0x7fc7a902ba60>,\n",
       "   <matplotlib.lines.Line2D at 0x7fc7a902bdf0>,\n",
       "   <matplotlib.lines.Line2D at 0x7fc7a90a0400>,\n",
       "   <matplotlib.lines.Line2D at 0x7fc7a90a0790>],\n",
       "  'caps': [<matplotlib.lines.Line2D at 0x7fc7a90931f0>,\n",
       "   <matplotlib.lines.Line2D at 0x7fc7a9093580>,\n",
       "   <matplotlib.lines.Line2D at 0x7fc7a90a0b20>,\n",
       "   <matplotlib.lines.Line2D at 0x7fc7a90a0eb0>],\n",
       "  'boxes': [<matplotlib.lines.Line2D at 0x7fc7a902b6d0>,\n",
       "   <matplotlib.lines.Line2D at 0x7fc7a90a0070>],\n",
       "  'medians': [<matplotlib.lines.Line2D at 0x7fc7a9093910>,\n",
       "   <matplotlib.lines.Line2D at 0x7fc7a90a9280>],\n",
       "  'fliers': [<matplotlib.lines.Line2D at 0x7fc7a9093ca0>,\n",
       "   <matplotlib.lines.Line2D at 0x7fc7a90a9610>],\n",
       "  'means': []},\n",
       " '----------------------------------',\n",
       " Ttest_indResult(statistic=-2.5412927171039, pvalue=0.011546059200233312))"
      ]
     },
     "execution_count": 34,
     "metadata": {},
     "output_type": "execute_result"
    },
    {
     "data": {
      "image/png": "[encoded data removed]",
      "text/plain": [
       "<Figure size 432x288 with 1 Axes>"
      ]
     },
     "metadata": {
      "needs_background": "light"
     },
     "output_type": "display_data"
    }
   ],
   "source": [
    "exploration_continuous('rest_bp')"
   ]
  },
  {
   "cell_type": "markdown",
   "id": "5a45c15c-a821-43e1-aa75-2a878b32c69d",
   "metadata": {},
   "source": [
    "### P-Value = 0.012"
   ]
  },
  {
   "cell_type": "markdown",
   "id": "44507882-e823-437f-91cd-4ce92771d362",
   "metadata": {},
   "source": [
    "# ---------------------------------------------------------"
   ]
  },
  {
   "cell_type": "markdown",
   "id": "e8bb8985-c40f-4473-b636-eeda93a800e5",
   "metadata": {},
   "source": [
    "### Cholesterol Level "
   ]
  },
  {
   "cell_type": "code",
   "execution_count": 35,
   "id": "b811e786-2592-4ec6-85e9-8d227ff12f6c",
   "metadata": {},
   "outputs": [
    {
     "data": {
      "text/plain": [
       "('Heart Attack:',\n",
       " count    165.000000\n",
       " mean     242.230303\n",
       " std       53.552872\n",
       " min      126.000000\n",
       " 25%      208.000000\n",
       " 50%      234.000000\n",
       " 75%      267.000000\n",
       " max      564.000000\n",
       " Name: chol, dtype: float64,\n",
       " 'No Heart Attack:',\n",
       " count    138.000000\n",
       " mean     251.086957\n",
       " std       49.454614\n",
       " min      131.000000\n",
       " 25%      217.250000\n",
       " 50%      249.000000\n",
       " 75%      283.000000\n",
       " max      409.000000\n",
       " Name: chol, dtype: float64,\n",
       " '----------------------------------',\n",
       " {'whiskers': [<matplotlib.lines.Line2D at 0x7fc7a918e400>,\n",
       "   <matplotlib.lines.Line2D at 0x7fc7a918e790>,\n",
       "   <matplotlib.lines.Line2D at 0x7fc7a91c6d30>,\n",
       "   <matplotlib.lines.Line2D at 0x7fc7a91d2100>],\n",
       "  'caps': [<matplotlib.lines.Line2D at 0x7fc7a918eb20>,\n",
       "   <matplotlib.lines.Line2D at 0x7fc7a918eeb0>,\n",
       "   <matplotlib.lines.Line2D at 0x7fc7a91d2490>,\n",
       "   <matplotlib.lines.Line2D at 0x7fc7a91d2820>],\n",
       "  'boxes': [<matplotlib.lines.Line2D at 0x7fc7a918e070>,\n",
       "   <matplotlib.lines.Line2D at 0x7fc7a91c69a0>],\n",
       "  'medians': [<matplotlib.lines.Line2D at 0x7fc7a91c6280>,\n",
       "   <matplotlib.lines.Line2D at 0x7fc7a91d2bb0>],\n",
       "  'fliers': [<matplotlib.lines.Line2D at 0x7fc7a91c6610>,\n",
       "   <matplotlib.lines.Line2D at 0x7fc7a91d2f40>],\n",
       "  'means': []},\n",
       " '----------------------------------',\n",
       " Ttest_indResult(statistic=-1.4842450762526977, pvalue=0.13879032695600638))"
      ]
     },
     "execution_count": 35,
     "metadata": {},
     "output_type": "execute_result"
    },
    {
     "data": {
      "image/png": "[encoded data removed]",
      "text/plain": [
       "<Figure size 432x288 with 1 Axes>"
      ]
     },
     "metadata": {
      "needs_background": "light"
     },
     "output_type": "display_data"
    }
   ],
   "source": [
    "exploration_continuous('chol')"
   ]
  },
  {
   "cell_type": "markdown",
   "id": "1e8838bf-4122-4082-ade1-15889c90c08c",
   "metadata": {},
   "source": [
    "### P-Value = 0.139"
   ]
  },
  {
   "cell_type": "markdown",
   "id": "1d9e351a-7c35-4de5-acb7-0f2aa883da8b",
   "metadata": {},
   "source": [
    "# ---------------------------------------------------------"
   ]
  },
  {
   "cell_type": "markdown",
   "id": "d1e2bf93-5ff6-4a08-95e5-7deebc308cf4",
   "metadata": {},
   "source": [
    "### Maximum Heart Rate"
   ]
  },
  {
   "cell_type": "code",
   "execution_count": 36,
   "id": "c59c4ccf-1000-4740-8f44-9e711d081b02",
   "metadata": {},
   "outputs": [
    {
     "data": {
      "text/plain": [
       "('Heart Attack:',\n",
       " count    165.000000\n",
       " mean     158.466667\n",
       " std       19.174276\n",
       " min       96.000000\n",
       " 25%      149.000000\n",
       " 50%      161.000000\n",
       " 75%      172.000000\n",
       " max      202.000000\n",
       " Name: max_hr, dtype: float64,\n",
       " 'No Heart Attack:',\n",
       " count    138.000000\n",
       " mean     139.101449\n",
       " std       22.598782\n",
       " min       71.000000\n",
       " 25%      125.000000\n",
       " 50%      142.000000\n",
       " 75%      156.000000\n",
       " max      195.000000\n",
       " Name: max_hr, dtype: float64,\n",
       " '----------------------------------',\n",
       " {'whiskers': [<matplotlib.lines.Line2D at 0x7fc7a928e430>,\n",
       "   <matplotlib.lines.Line2D at 0x7fc7a928e7c0>,\n",
       "   <matplotlib.lines.Line2D at 0x7fc7a929cbe0>,\n",
       "   <matplotlib.lines.Line2D at 0x7fc7a929cf70>],\n",
       "  'caps': [<matplotlib.lines.Line2D at 0x7fc7a928eaf0>,\n",
       "   <matplotlib.lines.Line2D at 0x7fc7a928ee80>,\n",
       "   <matplotlib.lines.Line2D at 0x7fc7a92d1340>,\n",
       "   <matplotlib.lines.Line2D at 0x7fc7a92d16d0>],\n",
       "  'boxes': [<matplotlib.lines.Line2D at 0x7fc7a928e0a0>,\n",
       "   <matplotlib.lines.Line2D at 0x7fc7a929c850>],\n",
       "  'medians': [<matplotlib.lines.Line2D at 0x7fc7a929c160>,\n",
       "   <matplotlib.lines.Line2D at 0x7fc7a92d1a60>],\n",
       "  'fliers': [<matplotlib.lines.Line2D at 0x7fc7a929c4f0>,\n",
       "   <matplotlib.lines.Line2D at 0x7fc7a92d1df0>],\n",
       "  'means': []},\n",
       " '----------------------------------',\n",
       " Ttest_indResult(statistic=8.069702869452568, pvalue=1.697337638656049e-14))"
      ]
     },
     "execution_count": 36,
     "metadata": {},
     "output_type": "execute_result"
    },
    {
     "data": {
      "image/png": "[encoded data removed]",
      "text/plain": [
       "<Figure size 432x288 with 1 Axes>"
      ]
     },
     "metadata": {
      "needs_background": "light"
     },
     "output_type": "display_data"
    }
   ],
   "source": [
    "exploration_continuous('max_hr')"
   ]
  },
  {
   "cell_type": "markdown",
   "id": "3eb892e0-8ed3-4bd0-a02f-86fadc7e6e90",
   "metadata": {},
   "source": [
    "### P-Value = 1.697e-14"
   ]
  },
  {
   "cell_type": "markdown",
   "id": "5ef73c56-1e46-42cd-bfbc-2fc610687575",
   "metadata": {},
   "source": [
    "# ---------------------------------------------------------"
   ]
  },
  {
   "cell_type": "markdown",
   "id": "42ddf69a-16d0-442f-a0d8-2f34a715ebcb",
   "metadata": {},
   "source": [
    "### S-T Depression"
   ]
  },
  {
   "cell_type": "code",
   "execution_count": 37,
   "id": "0df35ae7-efcb-4252-b72e-d8deddf5a033",
   "metadata": {},
   "outputs": [
    {
     "data": {
      "text/plain": [
       "('Heart Attack:',\n",
       " count    165.000000\n",
       " mean       0.583030\n",
       " std        0.780683\n",
       " min        0.000000\n",
       " 25%        0.000000\n",
       " 50%        0.200000\n",
       " 75%        1.000000\n",
       " max        4.200000\n",
       " Name: st_depression, dtype: float64,\n",
       " 'No Heart Attack:',\n",
       " count    138.000000\n",
       " mean       1.585507\n",
       " std        1.300340\n",
       " min        0.000000\n",
       " 25%        0.600000\n",
       " 50%        1.400000\n",
       " 75%        2.500000\n",
       " max        6.200000\n",
       " Name: st_depression, dtype: float64,\n",
       " '----------------------------------',\n",
       " {'whiskers': [<matplotlib.lines.Line2D at 0x7fc7a93971f0>,\n",
       "   <matplotlib.lines.Line2D at 0x7fc7a9397580>,\n",
       "   <matplotlib.lines.Line2D at 0x7fc7a93cfb50>,\n",
       "   <matplotlib.lines.Line2D at 0x7fc7a93cfee0>],\n",
       "  'caps': [<matplotlib.lines.Line2D at 0x7fc7a9397940>,\n",
       "   <matplotlib.lines.Line2D at 0x7fc7a9397cd0>,\n",
       "   <matplotlib.lines.Line2D at 0x7fc7a93da2b0>,\n",
       "   <matplotlib.lines.Line2D at 0x7fc7a93da640>],\n",
       "  'boxes': [<matplotlib.lines.Line2D at 0x7fc7a9387e20>,\n",
       "   <matplotlib.lines.Line2D at 0x7fc7a93cf7c0>],\n",
       "  'medians': [<matplotlib.lines.Line2D at 0x7fc7a93cf0a0>,\n",
       "   <matplotlib.lines.Line2D at 0x7fc7a93da9d0>],\n",
       "  'fliers': [<matplotlib.lines.Line2D at 0x7fc7a93cf430>,\n",
       "   <matplotlib.lines.Line2D at 0x7fc7a93dad60>],\n",
       "  'means': []},\n",
       " '----------------------------------',\n",
       " Ttest_indResult(statistic=-8.279579663866224, pvalue=4.085346391354538e-15))"
      ]
     },
     "execution_count": 37,
     "metadata": {},
     "output_type": "execute_result"
    },
    {
     "data": {
      "image/png": "[encoded data removed]",
      "text/plain": [
       "<Figure size 432x288 with 1 Axes>"
      ]
     },
     "metadata": {
      "needs_background": "light"
     },
     "output_type": "display_data"
    }
   ],
   "source": [
    "exploration_continuous('st_depression')"
   ]
  },
  {
   "cell_type": "markdown",
   "id": "0c1c5092-5904-47f7-85ba-3ab801106657",
   "metadata": {},
   "source": [
    "### P-Value = 4.085e-15"
   ]
  },
  {
   "cell_type": "markdown",
   "id": "5a3df88f-c98f-4afc-9bfb-59f3bf3049ec",
   "metadata": {},
   "source": [
    "# ---------------------------------------------------------"
   ]
  },
  {
   "cell_type": "markdown",
   "id": "9e68e42f-16ce-4dc0-ab9e-68b820ddf0ed",
   "metadata": {},
   "source": [
    "### Number of Blocked Vessels"
   ]
  },
  {
   "cell_type": "code",
   "execution_count": 38,
   "id": "02e0a4df-eb70-4018-b2c0-1329e1d965b6",
   "metadata": {},
   "outputs": [
    {
     "data": {
      "text/plain": [
       "('Heart Attack:',\n",
       " count    165.000000\n",
       " mean       0.363636\n",
       " std        0.848894\n",
       " min        0.000000\n",
       " 25%        0.000000\n",
       " 50%        0.000000\n",
       " 75%        0.000000\n",
       " max        4.000000\n",
       " Name: blocked_vessels, dtype: float64,\n",
       " 'No Heart Attack:',\n",
       " count    138.000000\n",
       " mean       1.166667\n",
       " std        1.043460\n",
       " min        0.000000\n",
       " 25%        0.000000\n",
       " 50%        1.000000\n",
       " 75%        2.000000\n",
       " max        4.000000\n",
       " Name: blocked_vessels, dtype: float64,\n",
       " '----------------------------------',\n",
       " {'whiskers': [<matplotlib.lines.Line2D at 0x7fc7a9499250>,\n",
       "   <matplotlib.lines.Line2D at 0x7fc7a94995e0>,\n",
       "   <matplotlib.lines.Line2D at 0x7fc7a94a4b80>,\n",
       "   <matplotlib.lines.Line2D at 0x7fc7a94a4f10>],\n",
       "  'caps': [<matplotlib.lines.Line2D at 0x7fc7a9499970>,\n",
       "   <matplotlib.lines.Line2D at 0x7fc7a9499d00>,\n",
       "   <matplotlib.lines.Line2D at 0x7fc7a94d92e0>,\n",
       "   <matplotlib.lines.Line2D at 0x7fc7a94d9670>],\n",
       "  'boxes': [<matplotlib.lines.Line2D at 0x7fc7a948ce80>,\n",
       "   <matplotlib.lines.Line2D at 0x7fc7a94a47f0>],\n",
       "  'medians': [<matplotlib.lines.Line2D at 0x7fc7a94a40d0>,\n",
       "   <matplotlib.lines.Line2D at 0x7fc7a94d9a00>],\n",
       "  'fliers': [<matplotlib.lines.Line2D at 0x7fc7a94a4460>,\n",
       "   <matplotlib.lines.Line2D at 0x7fc7a94d9d90>],\n",
       "  'means': []},\n",
       " '----------------------------------',\n",
       " Ttest_indResult(statistic=-7.386462874461026, pvalue=1.4915387381121126e-12))"
      ]
     },
     "execution_count": 38,
     "metadata": {},
     "output_type": "execute_result"
    },
    {
     "data": {
      "image/png": "[encoded data removed]",
      "text/plain": [
       "<Figure size 432x288 with 1 Axes>"
      ]
     },
     "metadata": {
      "needs_background": "light"
     },
     "output_type": "display_data"
    }
   ],
   "source": [
    "exploration_continuous('blocked_vessels')"
   ]
  },
  {
   "cell_type": "markdown",
   "id": "a728a3b8-7478-453a-80c3-e4ec3777cdf2",
   "metadata": {},
   "source": [
    "### P-Value = 1.492e-12"
   ]
  }
 ],
 "metadata": {
  "kernelspec": {
   "display_name": "Python 3 (ipykernel)",
   "language": "python",
   "name": "python3"
  },
  "language_info": {
   "codemirror_mode": {
    "name": "ipython",
    "version": 3
   },
   "file_extension": ".py",
   "mimetype": "text/x-python",
   "name": "python",
   "nbconvert_exporter": "python",
   "pygments_lexer": "ipython3",
   "version": "3.9.7"
  }
 },
 "nbformat": 4,
 "nbformat_minor": 5
}
